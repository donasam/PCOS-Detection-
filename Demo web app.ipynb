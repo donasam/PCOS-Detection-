{
 "cells": [
  {
   "cell_type": "code",
   "execution_count": 1,
   "metadata": {},
   "outputs": [],
   "source": [
    "import warnings\n",
    "warnings.filterwarnings('ignore')\n",
    "\n",
    "import ipywidgets as widgets\n",
    "from IPython.display import display, clear_output"
   ]
  },
  {
   "cell_type": "code",
   "execution_count": 2,
   "metadata": {},
   "outputs": [],
   "source": [
    "#!jupyter nbextension enable --py widgetsnbextension --sys-prefix\n",
    "#!jupyter serverextension enable voila --sys-prefix"
   ]
  },
  {
   "cell_type": "code",
   "execution_count": 3,
   "metadata": {},
   "outputs": [],
   "source": [
    "# Image Widget\n",
    "\n",
    "file = open(\"Slide1.jpg\", \"rb\")\n",
    "image = file.read()\n",
    "\n",
    "heading = widgets.Image(\n",
    "                    value=image,\n",
    "                    format='jpg',\n",
    "                    width='3000',\n",
    "                    height='1000'\n",
    "                )\n",
    "\n",
    "\n",
    "\n",
    "file1 = open(\"page1x.jpg\", \"rb\")\n",
    "image1 = file1.read()\n",
    "page1_image=widgets.Image(\n",
    "                    value=image1,\n",
    "                    format='jpg',\n",
    "                    width='600',\n",
    "                    height='500'\n",
    "                )\n",
    "\n",
    "file2 = open(\"page2x.jpg\", \"rb\")\n",
    "image2 = file2.read()\n",
    "page2_image=widgets.Image(\n",
    "                    value=image2,\n",
    "                    format='jpg',\n",
    "                    width='600',\n",
    "                    height='500'\n",
    "                )\n",
    "filep = open(\"predictionx.jpg\", \"rb\")\n",
    "imagep = filep.read()\n",
    "pred_image=widgets.Image(\n",
    "                    value=imagep,\n",
    "                    format='jpg',\n",
    "                    width='800',\n",
    "                    height='500'\n",
    "                )\n"
   ]
  },
  {
   "cell_type": "code",
   "execution_count": 4,
   "metadata": {},
   "outputs": [],
   "source": [
    "# name\n",
    "name_text=widgets.HTML(value=\"<h4>Hello..,May I know your name?</h4>\")\n",
    "name = widgets.Text(placeholder='Name')"
   ]
  },
  {
   "cell_type": "code",
   "execution_count": 5,
   "metadata": {},
   "outputs": [],
   "source": [
    "\n",
    "age_text=widgets.HTML(value=\"<h4>May I know your age?</h4>\")\n",
    "#Age\n",
    "age=widgets.BoundedIntText(\n",
    "    value=50,\n",
    "    min=1,\n",
    "    max=121,\n",
    "    step=1,\n",
    "    description='Age:',\n",
    "    disabled=False\n",
    ")\n"
   ]
  },
  {
   "cell_type": "code",
   "execution_count": 6,
   "metadata": {},
   "outputs": [],
   "source": [
    "#Hip\n",
    "hp_text=widgets.HTML(value=\"<h4>May I know your Hip size(in Inches)?</h4>\")\n",
    "hp=widgets.BoundedIntText(\n",
    "    value=30,\n",
    "    min=10,\n",
    "    max=100,\n",
    "    step=1,\n",
    "    description='Hip(inch):',\n",
    "    disabled=False\n",
    ")\n"
   ]
  },
  {
   "cell_type": "code",
   "execution_count": 7,
   "metadata": {},
   "outputs": [],
   "source": [
    "#Cycle regular or irregular\n",
    "cyc_text=widgets.HTML(value=\"<h4>Hows your menstrual cycle,Is it Regular or Irregular?</h4>\")\n",
    "cyc=widgets.Dropdown(\n",
    "    options=[('Regular', 2), ('Irregular', 4)],\n",
    "    value=2,\n",
    "    description='Cycle(R/I):',\n",
    ")\n"
   ]
  },
  {
   "cell_type": "code",
   "execution_count": 8,
   "metadata": {},
   "outputs": [],
   "source": [
    "#weight gain\n",
    "text_1 = widgets.HTML(value=\"<B><h4>Do you feel like you keep gaining weight no matter what you do?</h4><pstyle=font-family:serif;font-style:italic;</p><B>\")\n",
    "wt_gain=widgets.Dropdown(\n",
    "    options=[('Yes', 1), ('No', 0)],\n",
    "    value=1,\n",
    "    description='Select:',\n",
    ")\n",
    "\n",
    "\n",
    " "
   ]
  },
  {
   "cell_type": "code",
   "execution_count": 9,
   "metadata": {},
   "outputs": [],
   "source": [
    "#hair growth\n",
    "text_2 = widgets.HTML(value=\"<h4>Do you have excessive hair growth in body parts like face, arms or legs?</h4>\")\n",
    "hr_gwth=widgets.Dropdown(\n",
    "    options=[('Yes', 1), ('No', 0)],\n",
    "    value=1,\n",
    "    description='select:',\n",
    ")\n"
   ]
  },
  {
   "cell_type": "code",
   "execution_count": 10,
   "metadata": {},
   "outputs": [],
   "source": [
    "#skin darkening\n",
    "text_3 = widgets.HTML(value=\"<h4>Have you observed any skin darkening(black or purplish velvet)in your underarms or collar areas ?</h4>\")\n",
    "skin_darkn=widgets.Dropdown(\n",
    "    options=[('Yes', 1), ('No', 0)],\n",
    "    value=1,\n",
    "    description='Select:',\n",
    ")\n"
   ]
  },
  {
   "cell_type": "code",
   "execution_count": 11,
   "metadata": {},
   "outputs": [],
   "source": [
    "#pimples\n",
    "text_4 = widgets.HTML(value=\"<h4>Do you have acne in your body parts like face,back,neck or chest?</h4>\")\n",
    "pimples=widgets.Dropdown(\n",
    "    options=[('Yes', 1), ('No', 0)],\n",
    "    value=1,\n",
    "    description='Select:',\n",
    ")\n"
   ]
  },
  {
   "cell_type": "code",
   "execution_count": 12,
   "metadata": {},
   "outputs": [],
   "source": [
    "#left follicle number\n",
    "folli_l_text=widgets.HTML(value=\"<h4>What is your  follicle count for left ovary?</h4>\")\n",
    "folli_l=widgets.IntSlider(\n",
    "    value=10,\n",
    "    min=0,\n",
    "    max=50,\n",
    "    step=1,\n",
    "    description='Drag:',\n",
    "    disabled=False,\n",
    "    continuous_update=False,\n",
    "    orientation='horizontal',\n",
    "    readout=True,\n",
    "    readout_format='d'\n",
    ")"
   ]
  },
  {
   "cell_type": "code",
   "execution_count": 13,
   "metadata": {},
   "outputs": [],
   "source": [
    "#right follicle number\n",
    "folli_r_text=widgets.HTML(value=\"<h4>What is your  follicle count for right ovary?</h4>\")\n",
    "folli_r=widgets.IntSlider(\n",
    "    value=10,\n",
    "    min=0,\n",
    "    max=50,\n",
    "    step=1,\n",
    "    description='Drag:',\n",
    "    disabled=False,\n",
    "    continuous_update=False,\n",
    "    orientation='horizontal',\n",
    "    readout=True,\n",
    "    readout_format='d'\n",
    ")"
   ]
  },
  {
   "cell_type": "code",
   "execution_count": 14,
   "metadata": {},
   "outputs": [],
   "source": [
    "hi=widgets.HTML(value=\"<h3>Hi....</h3>\")\n",
    "\n",
    "result1=widgets.HTML(value=\"<h3>If the information provided by you is accurate,you may have PCOS.</h3>\")\n",
    "result2=widgets.HTML(value=\"<h3>You may have PCOS</h3>\")\n",
    "result3=widgets.HTML(value=\"<h3>Whatever happens,bear in mind:you're beautiful!!!.Moctor is always here to support you</h3>\")\n",
    "result4=widgets.HTML(value=\"<h3>Moctor is always here to support you</h3>\")\n",
    "result5=widgets.HTML(value=\"<h5>!!!Important!!!</h5>\")\n",
    "result51=widgets.HTML(value=\"<h6>PCOS Moctor is not a Diagnostic tool.Information may not be accurate.Always seek advice of your physician.</h6>\")\n",
    "result52=widgets.HTML(value=\"<h6>!Information may not be accurate!</h6>\")\n",
    "result53=widgets.HTML(value=\"<h6>!Always seek advice of your physician!</h6>\")\n",
    "result6=widgets.HTML(value=\"<h3>!!!Your Ovaries are happy and healthy!!!</h3>\")\n",
    "\n",
    "\n",
    "yes_set = widgets.VBox([result1,result3,result5,result51])\n",
    "\n",
    "no_set = widgets.VBox([result6,result5,result51])\n",
    "\n",
    "\n"
   ]
  },
  {
   "cell_type": "code",
   "execution_count": 15,
   "metadata": {},
   "outputs": [],
   "source": [
    "import pandas as pd\n",
    "import matplotlib.pyplot as plt\n",
    "import numpy as np\n",
    "import seaborn as sns\n",
    "\n",
    "#DATA LOADING\n",
    "pcos_df = pd.read_csv('PCOS_data.csv')\n",
    "pcos_df\n",
    "pcos_df.isnull().sum()\n",
    "pcos_df=pcos_df.drop(['Sl. No','Patient File No.','Unnamed: 44'],axis=1)\n",
    "#Changing datatypes of ' II    beta-HCG(mIU/mL)' and 'AMH(ng/mL)' \n",
    "pcos_df[\"AMH(ng/mL)\"] = pd.to_numeric(pcos_df[\"AMH(ng/mL)\"], errors='coerce')\n",
    "pcos_df[\"II    beta-HCG(mIU/mL)\"] = pd.to_numeric(pcos_df[\"II    beta-HCG(mIU/mL)\"], errors='coerce')\n",
    "pcos_df.isnull().sum()\n",
    "pcos_df.columns\n",
    "pcos_df.columns[:1]\n",
    "pcos_df.columns[1:]\n",
    "pcos_df=pcos_df.dropna()\n",
    "\n",
    "pcos_df = pcos_df.rename(columns = {\"PCOS (Y/N)\":\"Target\"})\n",
    "\n",
    "cols_1=['Follicle No. (R)','Follicle No. (L)', 'Skin darkening (Y/N)', 'hair growth(Y/N)', 'Weight gain(Y/N)', 'Cycle(R/I)', \n",
    "      'Pimples(Y/N)',' Age (yrs)','Hip(inch)'] \n",
    "X=pcos_df[cols_1]\n",
    "y=pcos_df.Target\n",
    "\n",
    "\n",
    "from sklearn.utils import resample\n",
    "from sklearn.model_selection import train_test_split\n",
    "\n",
    "X_train, X_test, y_train, y_test = train_test_split(X, y, test_size=0.25, random_state=0)\n",
    "\n",
    "X_over = pd.concat([X_train, y_train], axis=1)\n",
    "\n",
    "not_pcos = X_over[X_over.Target==0]\n",
    "pcos = X_over[X_over.Target==1]\n",
    "\n",
    "pcos_upsampled = resample(pcos,\n",
    "                          replace=True, \n",
    "                          n_samples=len(not_pcos), \n",
    "                          random_state=0) \n",
    "\n",
    "upsampled = pd.concat([not_pcos, pcos_upsampled])\n",
    "\n",
    "upsampled.Target.value_counts()\n",
    "\n",
    "X_train=upsampled.drop('Target',axis=1)\n",
    "y_train=upsampled.Target\n",
    "#Training the Logistic Regression Model\n",
    "\n",
    "#import the appropriate model from scikit-learn\n",
    "from sklearn.linear_model import LogisticRegression\n",
    "\n",
    "#create our model\n",
    "model = LogisticRegression()\n",
    "#Train the model\n",
    "model.fit(X_train,y_train)\n",
    "\n",
    "#Making Predictions With Our Logistic Regression Model\n",
    "predictions = model.predict(X_test)"
   ]
  },
  {
   "cell_type": "code",
   "execution_count": 16,
   "metadata": {},
   "outputs": [],
   "source": [
    "# button send\n",
    "\n",
    "button_send = widgets.Button(\n",
    "                description='Predict',\n",
    "                tooltip='Send',\n",
    "                style={'description_width': 'initial'}\n",
    "            )\n",
    "\n",
    "output = widgets.Output()\n",
    "\n",
    "def on_button_clicked(event):\n",
    "    with output:\n",
    "        clear_output()\n",
    "       \n",
    "        #defining variable\n",
    "        age_md=age.value\n",
    "        hp_md=hp.value\n",
    "        cyc_md=cyc.value\n",
    "        \n",
    "        \n",
    "\n",
    "        wt_gain_md=wt_gain.value\n",
    "\n",
    "        hr_gwth_md=hr_gwth.value\n",
    "\n",
    "        skin_darkn_md=skin_darkn.value\n",
    "\n",
    "        \n",
    "        pimples_md=pimples.value\n",
    "        \n",
    "        folli_l_md=folli_l.value\n",
    "        folli_r_md=folli_r.value\n",
    "        \n",
    "\n",
    "\n",
    "        data_set={' Age (yrs)':age_md,\n",
    "                 'Hip(inch)':hp_md,\n",
    "                 'Cycle(R/I)':cyc_md,\n",
    "                 \n",
    "                 'Weight gain(Y/N)':wt_gain_md,\n",
    "                 'hair growth(Y/N)':hr_gwth_md,\n",
    "                 'Skin darkening (Y/N)':skin_darkn_md,\n",
    "                 \n",
    "                 'Pimples(Y/N)':pimples_md,\n",
    "                 \n",
    "                 'Follicle No. (L)':folli_l_md,\n",
    "                 'Follicle No. (R)':folli_r_md,\n",
    "                 }\n",
    "        df1 = pd.DataFrame(data_set, index=[1])\n",
    "        y_pred=model.predict(df1)\n",
    "        if y_pred[0]==1:\n",
    "            \n",
    "            display(hi,name.value,yes_set)\n",
    "        else:\n",
    "            display(hi,name.value,no_set)\n",
    "        \n",
    "        #print('Accuracy: {:.2f}'.format(model.score(X_test, y_test)))\n",
    "\n",
    "button_send.on_click(on_button_clicked)\n",
    "\n",
    "vbox_result = widgets.VBox([pred_image,button_send])"
   ]
  },
  {
   "cell_type": "code",
   "execution_count": 17,
   "metadata": {},
   "outputs": [],
   "source": [
    "items = [name_text,name,age_text,age,cyc_text,cyc,text_1,wt_gain,text_2,hr_gwth,text_3,skin_darkn,text_4,pimples,\n",
    "                          hp_text,hp,folli_l_text,folli_l,folli_r_text,folli_r]\n",
    "\n",
    "qnset1 = widgets.VBox([items[0], items[1],items[2],items[3],items[4],items[5],items[14],items[15],items[16],items[17],items[18],items[19]])\n",
    "qnset2 = widgets.VBox([items[6], items[7],items[8],items[9],items[10],items[11],items[12],items[13]])\n",
    "\n",
    "page1set=widgets.HBox([ page1_image,qnset1])\n",
    "page2set=widgets.HBox([ page2_image,qnset2])\n",
    "page3set=widgets.HBox([ vbox_result,output])"
   ]
  },
  {
   "cell_type": "code",
   "execution_count": 18,
   "metadata": {},
   "outputs": [
    {
     "data": {
      "application/vnd.jupyter.widget-view+json": {
       "model_id": "229470bec12e45058f4d2e53ae3bc8d8",
       "version_major": 2,
       "version_minor": 0
      },
      "text/plain": [
       "Tab(children=(Image(value=b'\\xff\\xd8\\xff\\xe0\\x00\\x10JFIF\\x00\\x01\\x01\\x01\\x00`\\x00`\\x00\\x00\\xff\\xdb\\x00C\\x00\\x0…"
      ]
     },
     "metadata": {},
     "output_type": "display_data"
    }
   ],
   "source": [
    "\n",
    "page = heading\n",
    "page1 = page1set\n",
    "page2=page2set\n",
    "page3=page3set\n",
    "tab_contents=[page,page1,page2,page3]\n",
    "children = [page,page1,page2,page3]\n",
    "tab = widgets.Tab()\n",
    "tab.children = children\n",
    "display(tab)\n"
   ]
  },
  {
   "cell_type": "code",
   "execution_count": null,
   "metadata": {},
   "outputs": [],
   "source": []
  },
  {
   "cell_type": "code",
   "execution_count": null,
   "metadata": {},
   "outputs": [],
   "source": []
  }
 ],
 "metadata": {
  "kernelspec": {
   "display_name": "Python 3",
   "language": "python",
   "name": "python3"
  },
  "language_info": {
   "codemirror_mode": {
    "name": "ipython",
    "version": 3
   },
   "file_extension": ".py",
   "mimetype": "text/x-python",
   "name": "python",
   "nbconvert_exporter": "python",
   "pygments_lexer": "ipython3",
   "version": "3.8.3"
  }
 },
 "nbformat": 4,
 "nbformat_minor": 5
}
